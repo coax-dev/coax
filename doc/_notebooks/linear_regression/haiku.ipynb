{
 "cells": [
  {
   "cell_type": "code",
   "execution_count": null,
   "metadata": {},
   "outputs": [],
   "source": [
    "%pip install git+https://github.com/coax-dev/coax.git@main --quiet"
   ]
  },
  {
   "cell_type": "code",
   "execution_count": null,
   "metadata": {},
   "outputs": [],
   "source": [
    "import jax\n",
    "import jax.numpy as jnp\n",
    "import haiku as hk\n",
    "from sklearn.datasets import make_regression\n",
    "from sklearn.model_selection import train_test_split\n",
    "\n",
    "\n",
    "# create our dataset\n",
    "X, y = make_regression(n_features=3)\n",
    "X, X_test, y, y_test = train_test_split(X, y)\n",
    "\n",
    "\n",
    "# params are defined *implicitly* in haiku\n",
    "def forward(X):\n",
    "    lin = hk.Linear(1)\n",
    "    return lin(X).ravel()\n",
    "\n",
    "\n",
    "# a transformed haiku function consists of an 'init' and an 'apply' function\n",
    "forward = hk.transform(forward, apply_rng=False)\n",
    "\n",
    "# initialize parameters\n",
    "rng = jax.random.PRNGKey(seed=13)\n",
    "params = forward.init(rng, X)\n",
    "\n",
    "# redefine 'forward' as the 'apply' function\n",
    "forward = forward.apply\n",
    "\n",
    "\n",
    "def loss_fn(params, X, y):\n",
    "    err = forward(params, X) - y\n",
    "    return jnp.mean(jnp.square(err))  # mse\n",
    "\n",
    "\n",
    "grad_fn = jax.grad(loss_fn)\n",
    "\n",
    "\n",
    "def update(params, grads):\n",
    "    return jax.tree_map(lambda p, g: p - 0.05 * g, params, grads)\n",
    "\n",
    "\n",
    "# the main training loop\n",
    "for _ in range(50):\n",
    "    loss = loss_fn(params, X_test, y_test)\n",
    "    print(loss)\n",
    "\n",
    "    grads = grad_fn(params, X, y)\n",
    "    params = update(params, grads)\n"
   ]
  }
 ],
 "metadata": {
  "kernelspec": {
   "display_name": "Python 3",
   "language": "python",
   "name": "python3"
  },
  "language_info": {
   "codemirror_mode": {
    "name": "ipython",
    "version": 3
   },
   "file_extension": ".py",
   "mimetype": "text/x-python",
   "name": "python",
   "nbconvert_exporter": "python",
   "pygments_lexer": "ipython3",
   "version": "3.8.2"
  }
 },
 "colab": {
  "name": "haiku.ipynb",
  "provenance": []
 },
 "nbformat": 4,
 "nbformat_minor": 2
}