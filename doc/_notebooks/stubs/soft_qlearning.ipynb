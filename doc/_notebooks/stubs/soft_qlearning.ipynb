{
 "cells": [
  {
   "cell_type": "code",
   "execution_count": null,
   "metadata": {},
   "outputs": [],
   "source": [
    "%pip install git+https://github.com/coax-dev/coax.git@main --quiet"
   ]
  },
  {
   "cell_type": "code",
   "execution_count": null,
   "metadata": {},
   "outputs": [],
   "source": [
    "import gym\n",
    "import coax\n",
    "import haiku as hk\n",
    "import jax\n",
    "import jax.numpy as jnp\n",
    "from optax import adam\n",
    "\n",
    "\n",
    "# pick environment\n",
    "env = gym.make(...)\n",
    "env = coax.wrappers.TrainMonitor(env)\n",
    "\n",
    "\n",
    "def func_type1(S, A, is_training):\n",
    "    # custom haiku function: s,a -> q(s,a)\n",
    "    value = hk.Sequential([...])\n",
    "    X = jax.vmap(jnp.kron)(S, A)  # or jnp.concatenate((S, A), axis=-1) or whatever you like\n",
    "    return value(X)  # output shape: (batch_size,)\n",
    "\n",
    "\n",
    "def func_type2(S, is_training):\n",
    "    # custom haiku function: s -> q(s,.)\n",
    "    value = hk.Sequential([...])\n",
    "    return value(S)  # output shape: (batch_size, num_actions)\n",
    "\n",
    "\n",
    "# function approximator\n",
    "func = ...  # func_type1 or func_type2\n",
    "q = coax.Q(func, env)\n",
    "pi = coax.BoltzmannPolicy(q, temperature=0.1)\n",
    "\n",
    "\n",
    "# specify how to update q-function\n",
    "qlearning = coax.td_learning.SoftQLearning(q, optimizer=adam(0.001), temperature=pi.temperature)\n",
    "\n",
    "\n",
    "# specify how to trace the transitions\n",
    "cache = coax.reward_tracing.NStep(n=1, gamma=0.9)\n",
    "\n",
    "\n",
    "for ep in range(100):\n",
    "    pi.epsilon = ...  # exploration schedule\n",
    "    s, info = env.reset()\n",
    "\n",
    "    for t in range(env.spec.max_episode_steps):\n",
    "        a = pi(s)\n",
    "        s_next, r, done, truncated, info = env.step(a)\n",
    "\n",
    "        # add transition to cache\n",
    "        cache.add(s, a, r, done)\n",
    "\n",
    "        # update\n",
    "        while cache:\n",
    "            transition_batch = cache.pop()\n",
    "            metrics = qlearning.update(transition_batch)\n",
    "            env.record_metrics(metrics)\n",
    "\n",
    "        if done or truncated:\n",
    "            break\n",
    "\n",
    "        s = s_next\n"
   ]
  }
 ],
 "metadata": {
  "kernelspec": {
   "display_name": "Python 3",
   "language": "python",
   "name": "python3"
  },
  "language_info": {
   "codemirror_mode": {
    "name": "ipython",
    "version": 3
   },
   "file_extension": ".py",
   "mimetype": "text/x-python",
   "name": "python",
   "nbconvert_exporter": "python",
   "pygments_lexer": "ipython3",
   "version": "3.8.2"
  }
 },
 "colab": {
  "name": "soft_qlearning.ipynb",
  "provenance": []
 },
 "nbformat": 4,
 "nbformat_minor": 2
}