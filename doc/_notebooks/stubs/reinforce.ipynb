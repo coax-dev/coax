{
 "cells": [
  {
   "cell_type": "code",
   "execution_count": null,
   "metadata": {},
   "outputs": [],
   "source": [
    "%pip install git+https://github.com/coax-dev/coax.git@main"
   ]
  },
  {
   "cell_type": "code",
   "execution_count": null,
   "metadata": {},
   "outputs": [],
   "source": [
    "import gym\n",
    "import coax\n",
    "import optax\n",
    "import haiku as hk\n",
    "\n",
    "\n",
    "# pick environment\n",
    "env = gym.make(...)\n",
    "env = coax.wrappers.TrainMonitor(env)\n",
    "\n",
    "\n",
    "def func_pi(S, is_training):\n",
    "    # custom haiku function (for discrete actions in this example)\n",
    "    logits = hk.Sequential([...])\n",
    "    return {'logits': logits(S)}  # logits shape: (batch_size, num_actions)\n",
    "\n",
    "\n",
    "# function approximator\n",
    "pi = coax.Policy(func_pi, env)\n",
    "\n",
    "\n",
    "# specify how to update policy and value function\n",
    "vanilla_pg = coax.policy_objectives.VanillaPG(pi, optimizer=optax.adam(0.001))\n",
    "\n",
    "\n",
    "# specify how to trace the transitions\n",
    "tracer = coax.reward_tracing.MonteCarlo(gamma=0.9)\n",
    "\n",
    "\n",
    "for ep in range(100):\n",
    "    s = env.reset()\n",
    "\n",
    "    for t in range(env.spec.max_episode_steps):\n",
    "        a, logp = pi(s, return_logp=True)\n",
    "        s_next, r, done, info = env.step(a)\n",
    "\n",
    "        # trace rewards to create training data\n",
    "        # N.B. vanilla-pg doesn't use logp but we include it to make it easy to\n",
    "        # swap in another policy updater that does require it, e.g. ppo-clip\n",
    "        tracer.add(s, a, r, done, logp)\n",
    "\n",
    "        # update\n",
    "        while tracer:\n",
    "            transition_batch = tracer.pop()\n",
    "            Gn = transition_batch.Rn  # 'Rn' is full return 'Gn' in MC-cache\n",
    "            metrics = vanilla_pg.update(transition_batch, Adv=Gn)\n",
    "            env.record_metrics(metrics)\n",
    "\n",
    "        if done:\n",
    "            break\n",
    "\n",
    "        s = s_next\n"
   ]
  }
 ],
 "metadata": {
  "kernelspec": {
   "display_name": "Python 3",
   "language": "python",
   "name": "python3"
  },
  "language_info": {
   "codemirror_mode": {
    "name": "ipython",
    "version": 3
   },
   "file_extension": ".py",
   "mimetype": "text/x-python",
   "name": "python",
   "nbconvert_exporter": "python",
   "pygments_lexer": "ipython3",
   "version": "3.8.2"
  }
 },
 "colab": {
  "name": "reinforce.ipynb",
  "provenance": []
 },
 "nbformat": 4,
 "nbformat_minor": 2
}