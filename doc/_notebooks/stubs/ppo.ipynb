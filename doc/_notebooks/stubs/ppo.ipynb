{
 "cells": [
  {
   "cell_type": "code",
   "execution_count": null,
   "metadata": {},
   "outputs": [],
   "source": [
    "%pip install git+https://github.com/coax-dev/coax.git@main --quiet"
   ]
  },
  {
   "cell_type": "code",
   "execution_count": null,
   "metadata": {},
   "outputs": [],
   "source": [
    "import gym\n",
    "import coax\n",
    "import optax\n",
    "import haiku as hk\n",
    "\n",
    "\n",
    "# pick environment\n",
    "env = gym.make(...)\n",
    "env = coax.wrappers.TrainMonitor(env)\n",
    "\n",
    "\n",
    "def func_v(S, is_training):\n",
    "    # custom haiku function\n",
    "    value = hk.Sequential([...])\n",
    "    return value(S)  # output shape: (batch_size,)\n",
    "\n",
    "\n",
    "def func_pi(S, is_training):\n",
    "    # custom haiku function (for discrete actions in this example)\n",
    "    logits = hk.Sequential([...])\n",
    "    return {'logits': logits(S)}  # logits shape: (batch_size, num_actions)\n",
    "\n",
    "\n",
    "# function approximators\n",
    "v = coax.V(func_v, env)\n",
    "pi = coax.Policy(func_pi, env)\n",
    "\n",
    "\n",
    "# slow-moving avg of pi\n",
    "pi_behavior = pi.copy()\n",
    "\n",
    "\n",
    "# specify how to update policy and value function\n",
    "ppo_clip = coax.policy_objectives.PPOClip(pi, optimizer=optax.adam(0.001))\n",
    "simple_td = coax.td_learning.SimpleTD(v, optimizer=optax.adam(0.001))\n",
    "\n",
    "\n",
    "# specify how to trace the transitions\n",
    "tracer = coax.reward_tracing.NStep(n=5, gamma=0.9)\n",
    "buffer = coax.experience_replay.SimpleReplayBuffer(capacity=256)\n",
    "\n",
    "\n",
    "for ep in range(100):\n",
    "    s, info = env.reset()\n",
    "\n",
    "    for t in range(env.spec.max_episode_steps):\n",
    "        a, logp = pi_behavior(s, return_logp=True)\n",
    "        s_next, r, done, truncated, info = env.step(a)\n",
    "\n",
    "        # add transition to buffer\n",
    "        tracer.add(s, a, r, done, logp)\n",
    "        while tracer:\n",
    "            buffer.add(tracer.pop())\n",
    "\n",
    "        # update\n",
    "        if len(buffer) == buffer.capacity:\n",
    "            for _ in range(4 * buffer.capacity // 32):  # ~4 passes\n",
    "                transition_batch = buffer.sample(batch_size=32)\n",
    "                metrics_v, td_error = simple_td.update(transition_batch, return_td_error=True)\n",
    "                metrics_pi = ppo_clip.update(transition_batch, td_error)\n",
    "                env.record_metrics(metrics_v)\n",
    "                env.record_metrics(metrics_pi)\n",
    "\n",
    "            buffer.clear()\n",
    "            pi_behavior.soft_update(pi, tau=0.1)\n",
    "\n",
    "        if done or truncated:\n",
    "            break\n",
    "\n",
    "        s = s_next\n"
   ]
  }
 ],
 "metadata": {
  "kernelspec": {
   "display_name": "Python 3",
   "language": "python",
   "name": "python3"
  },
  "language_info": {
   "codemirror_mode": {
    "name": "ipython",
    "version": 3
   },
   "file_extension": ".py",
   "mimetype": "text/x-python",
   "name": "python",
   "nbconvert_exporter": "python",
   "pygments_lexer": "ipython3",
   "version": "3.8.2"
  }
 },
 "colab": {
  "name": "ppo.ipynb",
  "provenance": []
 },
 "nbformat": 4,
 "nbformat_minor": 2
}