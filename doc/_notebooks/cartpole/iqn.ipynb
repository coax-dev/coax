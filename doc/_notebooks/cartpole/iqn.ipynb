{
 "cells": [
  {
   "cell_type": "code",
   "execution_count": null,
   "metadata": {},
   "outputs": [],
   "source": [
    "%pip install git+https://github.com/coax-dev/coax.git@main"
   ]
  },
  {
   "cell_type": "code",
   "execution_count": 1,
   "metadata": {},
   "outputs": [],
   "source": [
    "import os\n",
    "\n",
    "os.environ.setdefault('JAX_PLATFORM_NAME', 'gpu')     # tell JAX to use GPU\n",
    "os.environ['XLA_PYTHON_CLIENT_MEM_FRACTION'] = '0.1'  # don't use all gpu mem\n",
    "os.environ['TF_CPP_MIN_LOG_LEVEL'] = '3'              # tell XLA to be quiet"
   ]
  },
  {
   "cell_type": "code",
   "execution_count": null,
   "metadata": {},
   "outputs": [],
   "source": [
    "%load_ext tensorboard\n",
    "%tensorboard --logdir ./data/tensorboard"
   ]
  },
  {
   "cell_type": "code",
   "execution_count": 3,
   "metadata": {},
   "outputs": [
    {
     "name": "stderr",
     "output_type": "stream",
     "text": [
      "[iqn|TrainMonitor|INFO] ep: 1,\tT: 18,\tG: 17,\tavg_r: 1,\tavg_G: 17,\tt: 17,\tdt: 76.459ms\n",
      "[iqn|TrainMonitor|INFO] ep: 2,\tT: 43,\tG: 24,\tavg_r: 1,\tavg_G: 20.5,\tt: 24,\tdt: 78.088ms\n"
     ]
    }
   ],
   "source": [
    "import coax\n",
    "import gym\n",
    "import haiku as hk\n",
    "import jax\n",
    "import jax.numpy as jnp\n",
    "import numpy as onp\n",
    "from optax import adam\n",
    "\n",
    "\n",
    "# the name of this script\n",
    "name = 'iqn'\n",
    "\n",
    "# the cart-pole MDP\n",
    "env = gym.make('CartPole-v0')\n",
    "env = coax.wrappers.TrainMonitor(env, name=name, tensorboard_dir=f\"./data/tensorboard/{name}\")\n",
    "quantile_embedding_dim = 16\n",
    "\n",
    "\n",
    "def func(S, quantiles, is_training):\n",
    "    \"\"\" type-2 q-function: s -> q(s,.) \"\"\"\n",
    "    def quantile(x, quantiles):\n",
    "        x_size = x.shape[-1]\n",
    "        quantile_net = jnp.tile(quantiles[..., None], [1, quantile_embedding_dim])\n",
    "        quantile_net = (\n",
    "            jnp.arange(1, quantile_embedding_dim + 1, 1).astype(jnp.float32)\n",
    "            * onp.pi\n",
    "            * quantile_net)\n",
    "        quantile_net = jnp.cos(quantile_net)\n",
    "        quantile_net = hk.Linear(x_size)(quantile_net)\n",
    "        quantile_net = jax.nn.sigmoid(quantile_net)\n",
    "        x = x[:, None, ...] * quantile_net\n",
    "        x = hk.Linear(x_size)(x)\n",
    "        x = jax.nn.relu(x)\n",
    "        return x\n",
    "    encoder = hk.Sequential((\n",
    "        hk.Linear(8), jax.nn.relu,\n",
    "        hk.Linear(8), jax.nn.relu,\n",
    "        hk.Linear(8)\n",
    "    ))\n",
    "    x = encoder(S)\n",
    "    x = quantile(x, quantiles=quantiles)\n",
    "    x = hk.Linear(env.action_space.n, w_init=jnp.zeros)(x)\n",
    "    x = jnp.moveaxis(x, -1, -2)\n",
    "    return x\n",
    "\n",
    "\n",
    "# value function and its derived policy\n",
    "q = coax.QuantileQ(func, env, num_quantiles=1)\n",
    "pi = coax.BoltzmannPolicy(q, temperature=0.1)\n",
    "\n",
    "# target network\n",
    "q_targ = q.copy()\n",
    "\n",
    "# experience tracer\n",
    "tracer = coax.reward_tracing.NStep(n=1, gamma=0.9)\n",
    "buffer = coax.experience_replay.SimpleReplayBuffer(capacity=100000)\n",
    "\n",
    "# updater\n",
    "qlearning = coax.td_learning.QuantileQLearning(q, q_targ=q_targ, optimizer=adam(0.001))\n",
    "\n",
    "\n",
    "# train\n",
    "for ep in range(1000):\n",
    "    s = env.reset()\n",
    "    # pi.epsilon = max(0.01, pi.epsilon * 0.95)\n",
    "    # env.record_metrics({'EpsilonGreedy/epsilon': pi.epsilon})\n",
    "\n",
    "    for t in range(env.spec.max_episode_steps):\n",
    "        a = pi(s)\n",
    "        s_next, r, done, info = env.step(a)\n",
    "\n",
    "        # extend last reward as asymptotic best-case return\n",
    "        if t == env.spec.max_episode_steps - 1:\n",
    "            assert done\n",
    "            r = 1 / (1 - tracer.gamma)  # gamma + gamma^2 + gamma^3 + ... = 1 / (1 - gamma)\n",
    "\n",
    "        # trace rewards and add transition to replay buffer\n",
    "        tracer.add(s, a, r, done)\n",
    "        while tracer:\n",
    "            buffer.add(tracer.pop())\n",
    "\n",
    "        # learn\n",
    "        if len(buffer) >= 100:\n",
    "            transition_batch = buffer.sample(batch_size=32)\n",
    "            metrics = qlearning.update(transition_batch)\n",
    "            env.record_metrics(metrics)\n",
    "\n",
    "        # sync target network\n",
    "        q_targ.soft_update(q, tau=0.01)\n",
    "\n",
    "        if done:\n",
    "            break\n",
    "\n",
    "        s = s_next\n",
    "\n",
    "    # early stopping\n",
    "    if env.avg_G > env.spec.reward_threshold:\n",
    "        break\n",
    "\n",
    "\n",
    "# run env one more time to render\n",
    "coax.utils.generate_gif(env, policy=pi, filepath=f\"./data/{name}.gif\", duration=25)\n"
   ]
  }
 ],
 "metadata": {
  "interpreter": {
   "hash": "f77ec242ea488e023141533f2cbebdc2fef5c95ca62d80003c06f38de48328c6"
  },
  "kernelspec": {
   "display_name": "Python 3.9.7 64-bit ('coax': conda)",
   "name": "python3"
  },
  "language_info": {
   "codemirror_mode": {
    "name": "ipython",
    "version": 3
   },
   "file_extension": ".py",
   "mimetype": "text/x-python",
   "name": "python",
   "nbconvert_exporter": "python",
   "pygments_lexer": "ipython3",
   "version": "3.9.7"
  },
  "orig_nbformat": 4
 },
 "nbformat": 4,
 "nbformat_minor": 2
}
