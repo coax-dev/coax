{
 "cells": [
  {
   "cell_type": "code",
   "execution_count": null,
   "metadata": {},
   "outputs": [],
   "source": [
    "%pip install git+https://github.com/coax-dev/coax.git@main --quiet"
   ]
  },
  {
   "cell_type": "code",
   "execution_count": null,
   "metadata": {},
   "outputs": [],
   "source": [
    "%load_ext tensorboard\n",
    "%tensorboard --logdir ./data/tensorboard"
   ]
  },
  {
   "cell_type": "code",
   "execution_count": null,
   "metadata": {},
   "outputs": [],
   "source": [
    "# Run this cell to fix rendering errors.\n",
    "import os\n",
    "os.environ['SDL_VIDEODRIVER'] = 'dummy'"
   ]
  },
  {
   "cell_type": "code",
   "execution_count": null,
   "metadata": {},
   "outputs": [],
   "source": [
    "import coax\n",
    "import gym\n",
    "import haiku as hk\n",
    "import jax\n",
    "import jax.numpy as jnp\n",
    "from coax.value_losses import mse\n",
    "from optax import adam\n",
    "\n",
    "\n",
    "# the name of this script\n",
    "name = 'dqn'\n",
    "\n",
    "# the cart-pole MDP\n",
    "env = gym.make('CartPole-v0', render_mode='rgb_array')\n",
    "env = coax.wrappers.TrainMonitor(env, name=name, tensorboard_dir=f\"./data/tensorboard/{name}\")\n",
    "\n",
    "\n",
    "def func(S, is_training):\n",
    "    \"\"\" type-2 q-function: s -> q(s,.) \"\"\"\n",
    "    seq = hk.Sequential((\n",
    "        hk.Linear(8), jax.nn.relu,\n",
    "        hk.Linear(8), jax.nn.relu,\n",
    "        hk.Linear(8), jax.nn.relu,\n",
    "        hk.Linear(env.action_space.n, w_init=jnp.zeros)\n",
    "    ))\n",
    "    return seq(S)\n",
    "\n",
    "\n",
    "# value function and its derived policy\n",
    "q = coax.Q(func, env)\n",
    "pi = coax.BoltzmannPolicy(q, temperature=0.1)\n",
    "\n",
    "# target network\n",
    "q_targ = q.copy()\n",
    "\n",
    "# experience tracer\n",
    "tracer = coax.reward_tracing.NStep(n=1, gamma=0.9)\n",
    "buffer = coax.experience_replay.SimpleReplayBuffer(capacity=100000)\n",
    "\n",
    "# updater\n",
    "qlearning = coax.td_learning.QLearning(q, q_targ=q_targ, loss_function=mse, optimizer=adam(0.001))\n",
    "\n",
    "\n",
    "# train\n",
    "for ep in range(1000):\n",
    "    s, info = env.reset()\n",
    "    # pi.epsilon = max(0.01, pi.epsilon * 0.95)\n",
    "    # env.record_metrics({'EpsilonGreedy/epsilon': pi.epsilon})\n",
    "\n",
    "    for t in range(env.spec.max_episode_steps):\n",
    "        a = pi(s)\n",
    "        s_next, r, done, truncated, info = env.step(a)\n",
    "\n",
    "        # extend last reward as asymptotic best-case return\n",
    "        if t == env.spec.max_episode_steps - 1:\n",
    "            assert done or truncated\n",
    "            r = 1 / (1 - tracer.gamma)  # gamma + gamma^2 + gamma^3 + ... = 1 / (1 - gamma)\n",
    "\n",
    "        # trace rewards and add transition to replay buffer\n",
    "        tracer.add(s, a, r, done or truncated)\n",
    "        while tracer:\n",
    "            buffer.add(tracer.pop())\n",
    "\n",
    "        # learn\n",
    "        if len(buffer) >= 100:\n",
    "            transition_batch = buffer.sample(batch_size=32)\n",
    "            metrics = qlearning.update(transition_batch)\n",
    "            env.record_metrics(metrics)\n",
    "\n",
    "        # sync target network\n",
    "        q_targ.soft_update(q, tau=0.01)\n",
    "\n",
    "        if done or truncated:\n",
    "            break\n",
    "\n",
    "        s = s_next\n",
    "\n",
    "    # early stopping\n",
    "    if env.avg_G > env.spec.reward_threshold:\n",
    "        break\n",
    "\n",
    "\n",
    "# run env one more time to render\n",
    "coax.utils.generate_gif(env, policy=pi, filepath=f\"./data/{name}.gif\", duration=25)\n"
   ]
  }
 ],
 "metadata": {
  "kernelspec": {
   "display_name": "Python 3",
   "language": "python",
   "name": "python3"
  },
  "language_info": {
   "codemirror_mode": {
    "name": "ipython",
    "version": 3
   },
   "file_extension": ".py",
   "mimetype": "text/x-python",
   "name": "python",
   "nbconvert_exporter": "python",
   "pygments_lexer": "ipython3",
   "version": "3.8.2"
  }
 },
 "colab": {
  "name": "dqn.ipynb",
  "provenance": []
 },
 "nbformat": 4,
 "nbformat_minor": 2
}