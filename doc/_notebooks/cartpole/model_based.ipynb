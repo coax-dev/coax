{
 "cells": [
  {
   "cell_type": "code",
   "execution_count": null,
   "metadata": {},
   "outputs": [],
   "source": [
    "%pip install git+https://github.com/coax-dev/coax.git@main --quiet"
   ]
  },
  {
   "cell_type": "code",
   "execution_count": null,
   "metadata": {},
   "outputs": [],
   "source": [
    "%load_ext tensorboard\n",
    "%tensorboard --logdir ./data/tensorboard"
   ]
  },
  {
   "cell_type": "code",
   "execution_count": null,
   "metadata": {},
   "outputs": [],
   "source": [
    "# Run this cell to fix rendering errors.\n",
    "import os\n",
    "os.environ['SDL_VIDEODRIVER'] = 'dummy'"
   ]
  },
  {
   "cell_type": "code",
   "execution_count": null,
   "metadata": {},
   "outputs": [],
   "source": [
    "import coax\n",
    "import gymnasium\n",
    "import jax.numpy as jnp\n",
    "import haiku as hk\n",
    "import optax\n",
    "from coax.value_losses import mse\n",
    "\n",
    "\n",
    "# the name of this script\n",
    "name = 'model_based'\n",
    "\n",
    "# the cart-pole MDP\n",
    "env = gymnasium.make('CartPole-v0', render_mode='rgb_array')\n",
    "env = coax.wrappers.TrainMonitor(env, name=name, tensorboard_dir=f\"./data/tensorboard/{name}\")\n",
    "\n",
    "\n",
    "def func_v(S, is_training):\n",
    "    potential = hk.Sequential((jnp.square, hk.Linear(1, w_init=jnp.zeros), jnp.ravel))\n",
    "    return -jnp.square(S[:, 3]) + potential(S[:, :3])  # kinetic term is angular velocity squared\n",
    "\n",
    "\n",
    "def func_p(S, A, is_training):\n",
    "    dS = hk.Linear(4, w_init=jnp.zeros)\n",
    "    return S + dS(A)\n",
    "\n",
    "\n",
    "def func_r(S, A, is_training):\n",
    "    return jnp.ones(S.shape[0])  # CartPole yields r=1 at every time step (no need to learn)\n",
    "\n",
    "\n",
    "# function approximators\n",
    "p = coax.TransitionModel(func_p, env)\n",
    "v = coax.V(func_v, env, observation_preprocessor=p.observation_preprocessor)\n",
    "r = coax.RewardFunction(func_r, env, observation_preprocessor=p.observation_preprocessor)\n",
    "\n",
    "\n",
    "# composite objects\n",
    "q = coax.SuccessorStateQ(v, p, r, gamma=0.9)\n",
    "pi = coax.EpsilonGreedy(q, epsilon=0.)  # no exploration\n",
    "\n",
    "\n",
    "# reward tracer\n",
    "tracer = coax.reward_tracing.NStep(n=1, gamma=q.gamma)\n",
    "\n",
    "\n",
    "# updaters\n",
    "adam = optax.chain(optax.apply_every(k=16), optax.adam(1e-4))\n",
    "simple_td = coax.td_learning.SimpleTD(v, loss_function=mse, optimizer=adam)\n",
    "\n",
    "sgd = optax.sgd(1e-3, momentum=0.9, nesterov=True)\n",
    "model_updater = coax.model_updaters.ModelUpdater(p, optimizer=sgd)\n",
    "\n",
    "\n",
    "while env.T < 100000:\n",
    "    s, info = env.reset()\n",
    "    env.render()\n",
    "\n",
    "    for t in range(env.spec.max_episode_steps):\n",
    "        a = pi(s)\n",
    "        s_next, r, done, truncated, info = env.step(a)\n",
    "        env.render()\n",
    "\n",
    "        tracer.add(s, a, r, done or truncated)\n",
    "        while tracer:\n",
    "            transition_batch = tracer.pop()\n",
    "            env.record_metrics(simple_td.update(transition_batch))\n",
    "            env.record_metrics(model_updater.update(transition_batch))\n",
    "\n",
    "        if done or truncated:\n",
    "            break\n",
    "\n",
    "        s = s_next\n",
    "\n",
    "    # early stopping\n",
    "    if env.ep >= 5 and env.avg_G > env.spec.reward_threshold:\n",
    "        break\n",
    "\n",
    "\n",
    "# run env one more time to render\n",
    "coax.utils.generate_gif(env, policy=pi, filepath=f\"./data/{name}.gif\", duration=25)\n"
   ]
  }
 ],
 "metadata": {
  "kernelspec": {
   "display_name": "Python 3",
   "language": "python",
   "name": "python3"
  },
  "language_info": {
   "codemirror_mode": {
    "name": "ipython",
    "version": 3
   },
   "file_extension": ".py",
   "mimetype": "text/x-python",
   "name": "python",
   "nbconvert_exporter": "python",
   "pygments_lexer": "ipython3",
   "version": "3.8.2"
  }
 },
 "colab": {
  "name": "model_based.ipynb",
  "provenance": []
 },
 "nbformat": 4,
 "nbformat_minor": 2
}